{
 "cells": [
  {
   "cell_type": "code",
   "execution_count": 84,
   "metadata": {},
   "outputs": [
    {
     "data": {
      "text/html": [
       "<div>\n",
       "<style scoped>\n",
       "    .dataframe tbody tr th:only-of-type {\n",
       "        vertical-align: middle;\n",
       "    }\n",
       "\n",
       "    .dataframe tbody tr th {\n",
       "        vertical-align: top;\n",
       "    }\n",
       "\n",
       "    .dataframe thead th {\n",
       "        text-align: right;\n",
       "    }\n",
       "</style>\n",
       "<table border=\"1\" class=\"dataframe\">\n",
       "  <thead>\n",
       "    <tr style=\"text-align: right;\">\n",
       "      <th></th>\n",
       "      <th>Title</th>\n",
       "      <th>Corpus</th>\n",
       "    </tr>\n",
       "  </thead>\n",
       "  <tbody>\n",
       "    <tr>\n",
       "      <td>0</td>\n",
       "      <td>DJ AM</td>\n",
       "      <td>\\n,\\n,Adam Michael Goldstein (March 30, 1973 –...</td>\n",
       "    </tr>\n",
       "    <tr>\n",
       "      <td>1</td>\n",
       "      <td>Princess Louise, Duchess of Argyll</td>\n",
       "      <td>\\n,Princess Louise, Duchess of Argyll, VA, CI,...</td>\n",
       "    </tr>\n",
       "    <tr>\n",
       "      <td>2</td>\n",
       "      <td>Elias Ashmole</td>\n",
       "      <td>\\n\\n,Elias Ashmole FRS (/ɪlaɪʌs æʃmoʊl/; 23 Ma...</td>\n",
       "    </tr>\n",
       "    <tr>\n",
       "      <td>3</td>\n",
       "      <td>Albert Stanley, 1st Baron Ashfield</td>\n",
       "      <td>\\n\\n,Albert Henry Stanley, 1st Baron Ashfield,...</td>\n",
       "    </tr>\n",
       "    <tr>\n",
       "      <td>4</td>\n",
       "      <td>Harriet Arbuthnot</td>\n",
       "      <td>\\n\\n,Harriet Arbuthnot (10 September 1793 – 2 ...</td>\n",
       "    </tr>\n",
       "  </tbody>\n",
       "</table>\n",
       "</div>"
      ],
      "text/plain": [
       "                                Title  \\\n",
       "0                               DJ AM   \n",
       "1  Princess Louise, Duchess of Argyll   \n",
       "2                       Elias Ashmole   \n",
       "3  Albert Stanley, 1st Baron Ashfield   \n",
       "4                   Harriet Arbuthnot   \n",
       "\n",
       "                                              Corpus  \n",
       "0  \\n,\\n,Adam Michael Goldstein (March 30, 1973 –...  \n",
       "1  \\n,Princess Louise, Duchess of Argyll, VA, CI,...  \n",
       "2  \\n\\n,Elias Ashmole FRS (/ɪlaɪʌs æʃmoʊl/; 23 Ma...  \n",
       "3  \\n\\n,Albert Henry Stanley, 1st Baron Ashfield,...  \n",
       "4  \\n\\n,Harriet Arbuthnot (10 September 1793 – 2 ...  "
      ]
     },
     "execution_count": 84,
     "metadata": {},
     "output_type": "execute_result"
    }
   ],
   "source": [
    "import pandas as pd\n",
    "\n",
    "wiki = pd.read_csv(\"C:/Users/Daniel/Documents/maestria UVG/text mining y analisis de sentimiento/tarea1/tarea1/base.csv\")\n",
    "base = wiki[['Title','Corpus']]\n",
    "base.head()"
   ]
  },
  {
   "cell_type": "code",
   "execution_count": 83,
   "metadata": {
    "scrolled": false
   },
   "outputs": [
    {
     "data": {
      "text/html": [
       "<div>\n",
       "<style scoped>\n",
       "    .dataframe tbody tr th:only-of-type {\n",
       "        vertical-align: middle;\n",
       "    }\n",
       "\n",
       "    .dataframe tbody tr th {\n",
       "        vertical-align: top;\n",
       "    }\n",
       "\n",
       "    .dataframe thead th {\n",
       "        text-align: right;\n",
       "    }\n",
       "</style>\n",
       "<table border=\"1\" class=\"dataframe\">\n",
       "  <thead>\n",
       "    <tr style=\"text-align: right;\">\n",
       "      <th></th>\n",
       "      <th>Title</th>\n",
       "      <th>Corpus</th>\n",
       "      <th>Tokens</th>\n",
       "      <th>Vocabulary</th>\n",
       "    </tr>\n",
       "  </thead>\n",
       "  <tbody>\n",
       "    <tr>\n",
       "      <td>0</td>\n",
       "      <td>DJ AM</td>\n",
       "      <td>[adam, michael, goldstein, march, 30, 1973, au...</td>\n",
       "      <td>2965</td>\n",
       "      <td>1017</td>\n",
       "    </tr>\n",
       "    <tr>\n",
       "      <td>1</td>\n",
       "      <td>Princess Louise, Duchess of Argyll</td>\n",
       "      <td>[princess, louise, duchess, of, argyll, va, ci...</td>\n",
       "      <td>2965</td>\n",
       "      <td>1017</td>\n",
       "    </tr>\n",
       "    <tr>\n",
       "      <td>2</td>\n",
       "      <td>Elias Ashmole</td>\n",
       "      <td>[elias, ashmole, frs, ɪlaɪʌs, æʃmoʊl, 23, may,...</td>\n",
       "      <td>2965</td>\n",
       "      <td>1017</td>\n",
       "    </tr>\n",
       "    <tr>\n",
       "      <td>3</td>\n",
       "      <td>Albert Stanley, 1st Baron Ashfield</td>\n",
       "      <td>[albert, henry, stanley, 1st, baron, ashfield,...</td>\n",
       "      <td>2965</td>\n",
       "      <td>1017</td>\n",
       "    </tr>\n",
       "    <tr>\n",
       "      <td>4</td>\n",
       "      <td>Harriet Arbuthnot</td>\n",
       "      <td>[harriet, arbuthnot, 10, september, 1793, 2, a...</td>\n",
       "      <td>2965</td>\n",
       "      <td>1017</td>\n",
       "    </tr>\n",
       "  </tbody>\n",
       "</table>\n",
       "</div>"
      ],
      "text/plain": [
       "                                Title  \\\n",
       "0                               DJ AM   \n",
       "1  Princess Louise, Duchess of Argyll   \n",
       "2                       Elias Ashmole   \n",
       "3  Albert Stanley, 1st Baron Ashfield   \n",
       "4                   Harriet Arbuthnot   \n",
       "\n",
       "                                              Corpus  Tokens  Vocabulary  \n",
       "0  [adam, michael, goldstein, march, 30, 1973, au...    2965        1017  \n",
       "1  [princess, louise, duchess, of, argyll, va, ci...    2965        1017  \n",
       "2  [elias, ashmole, frs, ɪlaɪʌs, æʃmoʊl, 23, may,...    2965        1017  \n",
       "3  [albert, henry, stanley, 1st, baron, ashfield,...    2965        1017  \n",
       "4  [harriet, arbuthnot, 10, september, 1793, 2, a...    2965        1017  "
      ]
     },
     "execution_count": 83,
     "metadata": {},
     "output_type": "execute_result"
    }
   ],
   "source": [
    "import re as re\n",
    "\n",
    "new_corpus = list()\n",
    "for text in base['Corpus']:\n",
    "    new_corpus.append(\n",
    "        re.split('\\W+',\n",
    "                 re.sub('\\r+|\\n+|,|\\s{2,}|\\t|\\[\\d+\\]','',text.lower())\n",
    "                )\n",
    "    )\n",
    "base_clean = pd.DataFrame(data={'Title':base['Title'],'Corpus':new_corpus})\n",
    "base_clean.head()"
   ]
  },
  {
   "cell_type": "code",
   "execution_count": 82,
   "metadata": {},
   "outputs": [
    {
     "name": "stdout",
     "output_type": "stream",
     "text": [
      "2965 tokens\n",
      "1017 words\n"
     ]
    }
   ],
   "source": [
    "print(str(len(base_clean['Corpus'][0]))+' tokens')\n",
    "print(str(len(set(base_clean['Corpus'][0])))+' words')"
   ]
  }
 ],
 "metadata": {
  "kernelspec": {
   "display_name": "Python 3",
   "language": "python",
   "name": "python3"
  },
  "language_info": {
   "codemirror_mode": {
    "name": "ipython",
    "version": 3
   },
   "file_extension": ".py",
   "mimetype": "text/x-python",
   "name": "python",
   "nbconvert_exporter": "python",
   "pygments_lexer": "ipython3",
   "version": "3.7.4"
  }
 },
 "nbformat": 4,
 "nbformat_minor": 2
}
